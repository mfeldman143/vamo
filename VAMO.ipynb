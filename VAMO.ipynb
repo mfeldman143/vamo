{
 "cells": [
  {
   "cell_type": "code",
   "execution_count": 12,
   "metadata": {
    "collapsed": false
   },
   "outputs": [],
   "source": [
    "# VAMO \n",
    "import combo\n",
    "import pandas as pd\n",
    "import numpy as np\n",
    "import scipy.stats\n",
    "import six"
   ]
  },
  {
   "cell_type": "code",
   "execution_count": 23,
   "metadata": {
    "collapsed": true
   },
   "outputs": [],
   "source": [
    "class Simulator(object):\n",
    "    def __init__(self, X, y, decoder):\n",
    "        self.decoder = decoder\n",
    "    \n",
    "    def __call__(self, z):\n",
    "        x = self.decoder.predict(z)\n",
    "        rank_x = scipy.stats.rankdata(x)\n",
    "        a = np.zeros_like(rank_x)\n",
    "        a[rank_x > 8] = 1\n",
    "        \n",
    "        for n in six.moves.range(X.shape[0]):\n",
    "            if np.allclose(a, X[n, :]):\n",
    "                t = self.y[n]\n",
    "                break\n",
    "        return t"
   ]
  },
  {
   "cell_type": "code",
   "execution_count": 21,
   "metadata": {
    "collapsed": false
   },
   "outputs": [],
   "source": [
    "# Data Load"
   ]
  },
  {
   "cell_type": "code",
   "execution_count": 22,
   "metadata": {
    "collapsed": false
   },
   "outputs": [],
   "source": [
    "df = pd.read_csv(\"data/impurity_SiGe.csv\")\n",
    "y = df[\"TC\"].as_matrix().astype(\"float32\")\n",
    "X = df.iloc[:, 0:-1].as_matrix().astype(\"float32\")"
   ]
  },
  {
   "cell_type": "code",
   "execution_count": 24,
   "metadata": {
    "collapsed": true
   },
   "outputs": [],
   "source": [
    "# Load Decoder and  Encoder\n"
   ]
  },
  {
   "cell_type": "code",
   "execution_count": null,
   "metadata": {
    "collapsed": true
   },
   "outputs": [],
   "source": [
    "class simulator(object):\n",
    "    def __init__(self, X, y):\n",
    "        self.X = X\n",
    "        self.y = y\n",
    "    \n",
    "    def __call__(self, z):\n",
    "        t = None\n",
    "        for n in six.moves.range(X.shape[0]):\n",
    "            if np.allclose(z, X[n, :]):\n",
    "                t = y[n]        \n",
    "        \n",
    "        if t is None:\n",
    "            t = -1000\n",
    "            print(\"手持ちのデータにありませぬ\")\n",
    "        \n",
    "        return t "
   ]
  },
  {
   "cell_type": "code",
   "execution_count": null,
   "metadata": {
    "collapsed": true
   },
   "outputs": [],
   "source": [
    "sim = simulator(X, y)"
   ]
  },
  {
   "cell_type": "code",
   "execution_count": null,
   "metadata": {
    "collapsed": true
   },
   "outputs": [],
   "source": [
    "# random sampling \n",
    "n = 100\n",
    "nbasis = 5000\n",
    "index = np.random.permutation(six.moves.range(X.shape[0]))\n",
    "train_X = X[index[0:n], :]\n",
    "train_t = y[index[0:n]]"
   ]
  },
  {
   "cell_type": "code",
   "execution_count": null,
   "metadata": {
    "collapsed": true
   },
   "outputs": [],
   "source": [
    "predictor = combo.blm.predictor(policy.config)\n",
    "train = combo.variable(encoder.predict(train_X), train_t)\n",
    "predictor.fit(train, nbasis)"
   ]
  },
  {
   "cell_type": "code",
   "execution_count": null,
   "metadata": {
    "collapsed": true
   },
   "outputs": [],
   "source": [
    "def score(x, predictor, train):\n",
    "    z = x.copy()\n",
    "    z = z.reshape((1, -1))\n",
    "    return combo.search.score.EI(predictor, train, combo.variable(X=z))[0]"
   ]
  },
  {
   "cell_type": "code",
   "execution_count": null,
   "metadata": {
    "collapsed": true
   },
   "outputs": [],
   "source": [
    "z = np.array([-1.0, 1.0])\n",
    "score(z, predictor, train)"
   ]
  },
  {
   "cell_type": "code",
   "execution_count": null,
   "metadata": {
    "collapsed": true
   },
   "outputs": [],
   "source": [
    "import scipy.optimize\n",
    "import copy \n",
    "\n",
    "min_fun = np.inf\n",
    "\n",
    "for n in six.moves.range(5):\n",
    "    params = (np.random.rand(2) -0.5) * 3\n",
    "    res = scipy.optimize.minimize(score, params, args=(predictor, train))\n",
    "    if res.fun < min_fun:\n",
    "        opt_x = res.x"
   ]
  },
  {
   "cell_type": "code",
   "execution_count": null,
   "metadata": {
    "collapsed": true
   },
   "outputs": [],
   "source": [
    "recon = decoder.predict(opt_x.reshape((1, 2)))\n",
    "# reconstract(reconstract >= 0.5)=1\n",
    "# reconstract(reconstract < 0.5)=0"
   ]
  },
  {
   "cell_type": "code",
   "execution_count": null,
   "metadata": {
    "collapsed": true
   },
   "outputs": [],
   "source": [
    "# top 8 \n",
    "recon[recon >= 0.5]=1\n",
    "recon[recon < 0.5]=0"
   ]
  },
  {
   "cell_type": "code",
   "execution_count": null,
   "metadata": {
    "collapsed": true
   },
   "outputs": [],
   "source": [
    "sim(recon)"
   ]
  }
 ],
 "metadata": {
  "kernelspec": {
   "display_name": "Python 3",
   "language": "python",
   "name": "python3"
  },
  "language_info": {
   "codemirror_mode": {
    "name": "ipython",
    "version": 3
   },
   "file_extension": ".py",
   "mimetype": "text/x-python",
   "name": "python",
   "nbconvert_exporter": "python",
   "pygments_lexer": "ipython3",
   "version": "3.5.2"
  }
 },
 "nbformat": 4,
 "nbformat_minor": 0
}
