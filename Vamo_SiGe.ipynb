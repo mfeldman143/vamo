{
 "cells": [
  {
   "cell_type": "code",
   "execution_count": 1,
   "metadata": {
    "collapsed": false
   },
   "outputs": [
    {
     "name": "stderr",
     "output_type": "stream",
     "text": [
      "Using TensorFlow backend.\n"
     ]
    }
   ],
   "source": [
    "from __future__ import print_function\n",
    "\n",
    "from keras.datasets import mnist\n",
    "from keras.optimizers import Adam, RMSprop\n",
    "from keras.utils import np_utils\n",
    "from keras import callbacks\n",
    "from keras import objectives\n",
    "from keras.callbacks import EarlyStopping, ModelCheckpoint\n",
    "from keras.layers import Input, Dense, Lambda, merge, Dropout\n",
    "from keras.models import Model\n",
    "from keras import backend as K\n",
    "from keras.utils.visualize_util import plot\n",
    "from IPython.display import Image\n",
    "\n",
    "import os\n",
    "import numpy as np\n",
    "import pandas as pd\n",
    "import six\n",
    "\n",
    "import combo\n",
    "\n",
    "import matplotlib.pyplot as plt\n",
    "%matplotlib inline"
   ]
  },
  {
   "cell_type": "code",
   "execution_count": 2,
   "metadata": {
    "collapsed": true
   },
   "outputs": [],
   "source": [
    "df = pd.read_csv(\"data/impurity_SiGe.csv\")\n",
    "# df = pd.read_csv(\"data/impurity_SiSi.csv\")\n",
    "y = df[\"TC\"].as_matrix().astype(\"float32\")\n",
    "X = df.iloc[:, 0:-1].as_matrix().astype(\"float32\")"
   ]
  },
  {
   "cell_type": "code",
   "execution_count": 3,
   "metadata": {
    "collapsed": false
   },
   "outputs": [],
   "source": [
    "# メタパラメータの設定\n",
    "max_epochs = 500  # 最大エポック数\n",
    "batch_size = 100  #  ミニバッチサイズ\n",
    "n_zdim = 2  # 隠れ層の次元\n",
    "z_epsilon = 1.0 # 隠れ変数zの事前分布の分散パラメータ"
   ]
  },
  {
   "cell_type": "code",
   "execution_count": 4,
   "metadata": {
    "collapsed": false
   },
   "outputs": [],
   "source": [
    "index = np.random.permutation(np.arange(X.shape[0]))\n",
    "Xtest = X[index[0:2000], :]\n",
    "Xtrain = X [index[2000:], :]\n",
    "ytest = y[index[0:2000]]"
   ]
  },
  {
   "cell_type": "code",
   "execution_count": null,
   "metadata": {
    "collapsed": false
   },
   "outputs": [],
   "source": [
    "# Sampling Function \n",
    "# Variational AutoEncoder の特徴 \n",
    "# z_epsilon -> 0 であれば標準のautoencoder\n",
    "def sampling(args):\n",
    "    z_mean, z_sigma = args\n",
    "    epsilon = K.random_normal(shape=(n_zdim,), mean=0., std=z_epsilon)\n",
    "    return z_mean + z_sigma * epsilon"
   ]
  },
  {
   "cell_type": "code",
   "execution_count": null,
   "metadata": {
    "collapsed": false
   },
   "outputs": [],
   "source": [
    "# Encoder Layer p(z|x)\n",
    "# 3層ネットワーク\n",
    "x = Input(shape=(Xtrain.shape[1],)) # 入力層\n",
    "hidden = Dense(1000, activation='relu')(x)  # 隠れ層\n",
    "d_hidden = Dropout(0.5)(hidden)\n",
    "hidden2 = Dense(200, activation='relu')(d_hidden)  # 隠れ層\n",
    "d_hidden2 = Dropout(0.5)(hidden2)\n",
    "hidden3 = Dense(200, activation='relu')(d_hidden2)  # 隠れ層\n",
    "d_hidden3 = Dropout(0.5)(hidden3)\n",
    "z_mean = Dense(n_zdim, activation='linear')(d_hidden3) # p(z|x)の平均\n",
    "z_sigma = Dense(n_zdim, activation='linear')(d_hidden3) # p(z|x)の標準偏差\n",
    "z = Lambda(sampling, output_shape=(n_zdim,))([z_mean, z_sigma]) # z 〜 p(z|x)"
   ]
  },
  {
   "cell_type": "code",
   "execution_count": null,
   "metadata": {
    "collapsed": false
   },
   "outputs": [],
   "source": [
    "# Decoder Layer p(x|z)\n",
    "decoder_h = Dense(200, activation='relu')\n",
    "decoder_mean = Dense(Xtrain.shape[1], activation='sigmoid')\n",
    "h_decoded = decoder_h(z)\n",
    "d_h_decoded = Dropout(0.5)(h_decoded)\n",
    "x_decoded_mean = decoder_mean(d_h_decoded)"
   ]
  },
  {
   "cell_type": "code",
   "execution_count": null,
   "metadata": {
    "collapsed": true
   },
   "outputs": [],
   "source": [
    "# Variational AutoEncoder Model の定義\n",
    "vae = Model(x, x_decoded_mean)\n",
    "\n",
    "# Encoder Model の定義\n",
    "encoder = Model(x,z)\n",
    "\n",
    "# Decoder Model の定義\n",
    "z_in = Input(shape=(n_zdim,))\n",
    "_h_decoded = decoder_h(z_in)\n",
    "_x_decoded_mean = decoder_mean(_h_decoded)\n",
    "decoder= Model(input=z_in, output=_x_decoded_mean)"
   ]
  },
  {
   "cell_type": "code",
   "execution_count": null,
   "metadata": {
    "collapsed": true
   },
   "outputs": [],
   "source": [
    "def binary_crossentropy(y_true, y_pred):\n",
    "    return K.sum(K.binary_crossentropy(y_pred, y_true), axis=-1)"
   ]
  },
  {
   "cell_type": "code",
   "execution_count": null,
   "metadata": {
    "collapsed": true
   },
   "outputs": [],
   "source": [
    "def vae_loss(x, x_decoded_mean):\n",
    "    reconst_loss = K.mean(binary_crossentropy(x, x_decoded_mean),axis=-1)\n",
    "    latent_loss =  - 0.5 * K.mean(K.sum(1 + K.log(K.square(z_sigma)) - K.square(z_mean) - K.square(z_sigma), axis=-1))\n",
    "    return reconst_loss + latent_loss"
   ]
  },
  {
   "cell_type": "code",
   "execution_count": null,
   "metadata": {
    "collapsed": true
   },
   "outputs": [],
   "source": [
    "vae.compile(optimizer=RMSprop(lr=0.0001, rho=0.9, epsilon=1e-08, decay=0.), loss=vae_loss)"
   ]
  },
  {
   "cell_type": "code",
   "execution_count": null,
   "metadata": {
    "collapsed": true
   },
   "outputs": [],
   "source": [
    "# callback 関数設計\n",
    "if not os.path.exists(\"checkpoint\"):\n",
    "    os.makedirs(\"checkpoint\")\n",
    "    \n",
    "# Early stopping に関する\n",
    "es_cb = EarlyStopping(monitor='val_loss', patience=50, verbose=0, mode='auto')\n",
    "cp_cb = ModelCheckpoint(filepath = os.path.join(\"checkpoint\",'vae{epoch:02d}.hdf5'), \n",
    "                                              monitor='val_loss', verbose=1, save_best_only=True, mode='auto')\n",
    "cbks = [cp_cb]"
   ]
  },
  {
   "cell_type": "code",
   "execution_count": null,
   "metadata": {
    "collapsed": false
   },
   "outputs": [],
   "source": [
    "history = vae.fit(Xtrain, Xtrain, nb_epoch=max_epochs, batch_size=batch_size, callbacks=cbks, shuffle = True,  validation_data=(Xtest, Xtest))\n"
   ]
  },
  {
   "cell_type": "code",
   "execution_count": null,
   "metadata": {
    "collapsed": false
   },
   "outputs": [],
   "source": [
    "# plot loss\n",
    "loss = history.history['loss']\n",
    "val_loss = history.history['val_loss']\n",
    "\n",
    "plt.plot(range(1,max_epochs), loss[1:], marker='.', label='loss')\n",
    "plt.plot(range(1,max_epochs), val_loss[1:], marker='.', label='val_loss')\n",
    "plt.legend(loc='best', fontsize=10)\n",
    "plt.grid()\n",
    "plt.xlabel('epoch')\n",
    "plt.ylabel('loss')\n",
    "plt.show()"
   ]
  },
  {
   "cell_type": "code",
   "execution_count": null,
   "metadata": {
    "collapsed": false
   },
   "outputs": [],
   "source": [
    "plt.figure(figsize=(10, 8))\n",
    "plt.scatter(encoder.predict(X)[:, 0], encoder.predict(X)[:, 1], c=y)\n",
    "plt.colorbar()\n",
    "plt.grid()\n",
    "#@plt.xlim((-10, ))\n",
    "#plt.ylim((-5, 5))\n",
    "plt.savefig(\"SiGe.eps\")"
   ]
  },
  {
   "cell_type": "code",
   "execution_count": null,
   "metadata": {
    "collapsed": true
   },
   "outputs": [],
   "source": [
    "class simulator(object):\n",
    "    def __init__(self, X, y):\n",
    "        self.X = X\n",
    "        self.y = y\n",
    "    \n",
    "    def __call__(self, z):\n",
    "        t = None\n",
    "        for n in six.moves.range(X.shape[0]):\n",
    "            if np.allclose(z, X[n, :]):\n",
    "                t = y[n]        \n",
    "        \n",
    "        if t is None:\n",
    "            t = -1000\n",
    "            print(\"手持ちのデータにありませぬ\")\n",
    "        \n",
    "        return t "
   ]
  },
  {
   "cell_type": "code",
   "execution_count": null,
   "metadata": {
    "collapsed": true
   },
   "outputs": [],
   "source": [
    "sim = simulator(X, y)"
   ]
  },
  {
   "cell_type": "code",
   "execution_count": null,
   "metadata": {
    "collapsed": false
   },
   "outputs": [],
   "source": [
    "# random sampling \n",
    "n = 100\n",
    "nbasis = 5000\n",
    "index = np.random.permutation(six.moves.range(X.shape[0]))\n",
    "train_X = X[index[0:n], :]\n",
    "train_t = y[index[0:n]]"
   ]
  },
  {
   "cell_type": "code",
   "execution_count": null,
   "metadata": {
    "collapsed": false
   },
   "outputs": [],
   "source": [
    "predictor = combo.blm.predictor(policy.config)\n",
    "train = combo.variable(encoder.predict(train_X), train_t)\n",
    "predictor.fit(train, nbasis)"
   ]
  },
  {
   "cell_type": "code",
   "execution_count": null,
   "metadata": {
    "collapsed": false
   },
   "outputs": [],
   "source": [
    "def score(x, predictor, train):\n",
    "    z = x.copy()\n",
    "    z = z.reshape((1, -1))\n",
    "    return combo.search.score.EI(predictor, train, combo.variable(X=z))[0]"
   ]
  },
  {
   "cell_type": "code",
   "execution_count": null,
   "metadata": {
    "collapsed": false
   },
   "outputs": [],
   "source": [
    "z = np.array([-1.0, 1.0])\n",
    "score(z, predictor, train)"
   ]
  },
  {
   "cell_type": "code",
   "execution_count": null,
   "metadata": {
    "collapsed": false
   },
   "outputs": [],
   "source": [
    "import scipy.optimize\n",
    "import copy \n",
    "\n",
    "min_fun = np.inf\n",
    "\n",
    "for n in six.moves.range(5):\n",
    "    params = (np.random.rand(2) -0.5) * 3\n",
    "    res = scipy.optimize.minimize(score, params, args=(predictor, train))\n",
    "    if res.fun < min_fun:\n",
    "        opt_x = res.x"
   ]
  },
  {
   "cell_type": "code",
   "execution_count": null,
   "metadata": {
    "collapsed": false
   },
   "outputs": [],
   "source": [
    "recon = decoder.predict(opt_x.reshape((1, 2)))\n",
    "# reconstract(reconstract >= 0.5)=1\n",
    "# reconstract(reconstract < 0.5)=0"
   ]
  },
  {
   "cell_type": "code",
   "execution_count": null,
   "metadata": {
    "collapsed": false
   },
   "outputs": [],
   "source": [
    "# top 8 \n",
    "recon[recon >= 0.5]=1\n",
    "recon[recon < 0.5]=0"
   ]
  },
  {
   "cell_type": "code",
   "execution_count": null,
   "metadata": {
    "collapsed": false
   },
   "outputs": [],
   "source": [
    "sim(recon)"
   ]
  },
  {
   "cell_type": "code",
   "execution_count": null,
   "metadata": {
    "collapsed": false
   },
   "outputs": [],
   "source": [
    "opt_x"
   ]
  },
  {
   "cell_type": "code",
   "execution_count": null,
   "metadata": {
    "collapsed": true
   },
   "outputs": [],
   "source": []
  }
 ],
 "metadata": {
  "kernelspec": {
   "display_name": "Python 3",
   "language": "python",
   "name": "python3"
  },
  "language_info": {
   "codemirror_mode": {
    "name": "ipython",
    "version": 3
   },
   "file_extension": ".py",
   "mimetype": "text/x-python",
   "name": "python",
   "nbconvert_exporter": "python",
   "pygments_lexer": "ipython3",
   "version": "3.5.2"
  }
 },
 "nbformat": 4,
 "nbformat_minor": 0
}
